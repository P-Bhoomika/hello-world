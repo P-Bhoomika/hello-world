{
  "nbformat": 4,
  "nbformat_minor": 0,
  "metadata": {
    "colab": {
      "name": "Untitled1.ipynb",
      "version": "0.3.2",
      "provenance": [],
      "include_colab_link": true
    },
    "kernelspec": {
      "name": "python3",
      "display_name": "Python 3"
    }
  },
  "cells": [
    {
      "cell_type": "markdown",
      "metadata": {
        "id": "view-in-github",
        "colab_type": "text"
      },
      "source": [
        "<a href=\"https://colab.research.google.com/github/P-Bhoomika/hello-world/blob/master/Untitles1.ipynb\" target=\"_parent\"><img src=\"https://colab.research.google.com/assets/colab-badge.svg\" alt=\"Open In Colab\"/></a>"
      ]
    },
    {
      "cell_type": "code",
      "metadata": {
        "id": "U1fodVEyU5_b",
        "colab_type": "code",
        "colab": {}
      },
      "source": [
        "import csv"
      ],
      "execution_count": 0,
      "outputs": []
    },
    {
      "cell_type": "code",
      "metadata": {
        "id": "TJ-8er9UWNHF",
        "colab_type": "code",
        "colab": {}
      },
      "source": [
        "with open(\"/content/data.csv\") as finds:\n",
        "  reader=csv.reader(finds)\n",
        "  data=list(reader)"
      ],
      "execution_count": 0,
      "outputs": []
    },
    {
      "cell_type": "code",
      "metadata": {
        "id": "DqCJKLOFWrCH",
        "colab_type": "code",
        "colab": {}
      },
      "source": [
        "h=['0','0','0','0','0','0']"
      ],
      "execution_count": 0,
      "outputs": []
    },
    {
      "cell_type": "code",
      "metadata": {
        "id": "IigGrIuuXNlO",
        "colab_type": "code",
        "colab": {}
      },
      "source": [
        "for row in data:\n",
        "  if row[-1]=='Y':\n",
        "    j=0\n",
        "    for col in row:\n",
        "      if col!='Y':\n",
        "        if col!=h[j] and h[j]=='0':\n",
        "          h[j]=col\n",
        "        elif col!=h[j] and h[j]!='0':\n",
        "          h[j]='?'\n",
        "      j=j+1\n"
      ],
      "execution_count": 0,
      "outputs": []
    },
    {
      "cell_type": "code",
      "metadata": {
        "id": "wJCRiod5XW-V",
        "colab_type": "code",
        "colab": {
          "base_uri": "https://localhost:8080/",
          "height": 34
        },
        "outputId": "fa6d4a75-e4d9-4c63-e0bf-6e350d5c45c5"
      },
      "source": [
        "h"
      ],
      "execution_count": 19,
      "outputs": [
        {
          "output_type": "execute_result",
          "data": {
            "text/plain": [
              "['sunny', 'warm', '?', 'strong', '?', '?']"
            ]
          },
          "metadata": {
            "tags": []
          },
          "execution_count": 19
        }
      ]
    },
    {
      "cell_type": "code",
      "metadata": {
        "id": "1nYUFiYlZLnK",
        "colab_type": "code",
        "colab": {}
      },
      "source": [
        ""
      ],
      "execution_count": 0,
      "outputs": []
    }
  ]
}